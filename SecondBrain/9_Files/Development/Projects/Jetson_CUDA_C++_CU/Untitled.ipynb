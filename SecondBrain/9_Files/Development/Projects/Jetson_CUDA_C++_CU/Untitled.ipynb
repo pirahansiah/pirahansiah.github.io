{
 "cells": [
  {
   "cell_type": "code",
   "execution_count": 1,
   "id": "a5078ee4-261e-47b2-89b5-677f120161d3",
   "metadata": {},
   "outputs": [],
   "source": [
    "#include <iostream>\n",
    "\n",
    "int main() {\n",
    "    std::cout << \"Hello, World!\" << std::endl;\n",
    "    return 0;\n",
    "}\n"
   ]
  },
  {
   "cell_type": "code",
   "execution_count": 4,
   "id": "33c1200b-1fd6-4dcb-af32-96a172829223",
   "metadata": {},
   "outputs": [
    {
     "name": "stdout",
     "output_type": "stream",
     "text": [
      "Hello, World!\n"
     ]
    },
    {
     "data": {
      "text/plain": [
       "@0x7fa0148b98"
      ]
     },
     "execution_count": 4,
     "metadata": {},
     "output_type": "execute_result"
    }
   ],
   "source": [
    "std::cout << \"Hello, World!\" << std::endl;\n",
    "#pragma cling add_include_path(\"/path/to/opencv/include\")\n"
   ]
  },
  {
   "cell_type": "code",
   "execution_count": 5,
   "id": "117432d4-b185-48d4-9c4f-508467bd0f33",
   "metadata": {},
   "outputs": [
    {
     "name": "stderr",
     "output_type": "stream",
     "text": [
      "\u001b[1minput_line_15:1:10: \u001b[0m\u001b[0;1;31mfatal error: \u001b[0m\u001b[1m'opencv2/opencv.hpp' file not found\u001b[0m\n",
      "#include <opencv2/opencv.hpp>\n",
      "\u001b[0;1;32m         ^~~~~~~~~~~~~~~~~~~~\n",
      "\u001b[0m"
     ]
    },
    {
     "ename": "Interpreter Error",
     "evalue": "",
     "output_type": "error",
     "traceback": [
      "Interpreter Error: "
     ]
    }
   ],
   "source": [
    "#include <opencv2/opencv.hpp>"
   ]
  },
  {
   "cell_type": "code",
   "execution_count": 8,
   "id": "47e5a89a-0b01-4ed7-967a-0d599cd74126",
   "metadata": {},
   "outputs": [
    {
     "name": "stderr",
     "output_type": "stream",
     "text": [
      "\u001b[1minput_line_16:3:2: \u001b[0m\u001b[0;1;31merror: \u001b[0m\u001b[1mexpected expression\u001b[0m\n",
      "!export PATH=/usr/local/cuda/bin${PATH:+:${PATH}}\n",
      "\u001b[0;1;32m ^\n",
      "\u001b[0m"
     ]
    },
    {
     "ename": "Interpreter Error",
     "evalue": "",
     "output_type": "error",
     "traceback": [
      "Interpreter Error: "
     ]
    }
   ],
   "source": [
    "//%%writefile vector_add.cu\n",
    "!export PATH=/usr/local/cuda/bin${PATH:+:${PATH}}\n",
    "!export LD_LIBRARY_PATH=/usr/local/cuda/lib64  ${LD_LIBRARY_PATH:+:${LD_LIBRARY_PATH}}\n",
    "    \n",
    "#include <iostream>\n",
    "#include <cuda_runtime.h>\n",
    "\n",
    "__global__ void add(int *a, int *b, int *c) {\n",
    "    int index = threadIdx.x + blockIdx.x * blockDim.x;\n",
    "    c[index] = a[index] + b[index];\n",
    "}\n",
    "\n",
    "int main() {\n",
    "    // CUDA code to allocate memory, initialize data, run kernel and collect results.\n",
    "    std::cout << \"CUDA code runs here.\" << std::endl;\n",
    "    return 0;\n",
    "}\n"
   ]
  },
  {
   "cell_type": "code",
   "execution_count": 9,
   "id": "80f01cd5-4007-466f-9966-9c2c5c72357e",
   "metadata": {},
   "outputs": [
    {
     "name": "stdout",
     "output_type": "stream",
     "text": [
      "sh: 1: nvcc: not found\n"
     ]
    }
   ],
   "source": [
    "!nvcc vector_add.cu -o vector_add\n",
    "!./vector_add\n"
   ]
  },
  {
   "cell_type": "code",
   "execution_count": 23,
   "id": "a870b854-9475-4d12-8181-54e61a5521e0",
   "metadata": {},
   "outputs": [],
   "source": [
    "#pragma cling add_library_path(\"/usr/lib/aarch64-linux-gnu/\")\n",
    "#pragma cling load(\"libopencv_core.so\")\n",
    "#pragma cling load(\"libopencv_imgproc.so\")\n",
    "#pragma cling load(\"libopencv_imgcodecs.so\")\n",
    "#pragma cling load(\"libopencv_highgui.so\")\n",
    "#pragma cling add_include_path(\"/usr/include/opencv4\")\n",
    "\n",
    "\n",
    "\n",
    "/*\n",
    "#pragma cling add_include_path(\"/usr/include/opencv4/opencv\")\n",
    "#pragma cling add_include_path(\"/usr/include/opencv4\")\n",
    "#pragma cling load(\"libopencv_core.so\")\n",
    "#pragma cling load(\"libopencv_imgproc.so\")\n",
    "#pragma cling load(\"libopencv_imgcodecs.so\")\n",
    "#pragma cling load(\"libopencv_highgui.so\")\n",
    "*/"
   ]
  },
  {
   "cell_type": "code",
   "execution_count": 24,
   "id": "4e9caa52-01ec-4fc6-a7a7-d7e0a418c517",
   "metadata": {},
   "outputs": [
    {
     "name": "stderr",
     "output_type": "stream",
     "text": [
      "\u001b[1minput_line_30:1:10: \u001b[0m\u001b[0;1;31mfatal error: \u001b[0m\u001b[1m'opencv2/opencv.hpp' file not found\u001b[0m\n",
      "#include <opencv2/opencv.hpp>\n",
      "\u001b[0;1;32m         ^~~~~~~~~~~~~~~~~~~~\n",
      "\u001b[0m"
     ]
    },
    {
     "ename": "Interpreter Error",
     "evalue": "",
     "output_type": "error",
     "traceback": [
      "Interpreter Error: "
     ]
    }
   ],
   "source": [
    "#include <opencv2/opencv.hpp>\n",
    "#include <iostream>\n",
    "\n",
    "void testOpenCV() {\n",
    "    cv::Mat image = cv::Mat::zeros(100, 100, CV_8UC3);\n",
    "    if (image.empty()) {\n",
    "        std::cout << \"Failed to create image.\" << std::endl;\n",
    "    } else {\n",
    "        std::cout << \"OpenCV is working!\" << std::endl;\n",
    "    }\n",
    "}\n",
    "\n",
    "testOpenCV();\n"
   ]
  },
  {
   "cell_type": "code",
   "execution_count": 27,
   "id": "9c87db0c-6322-40fd-9e18-ad51bec32e3e",
   "metadata": {},
   "outputs": [
    {
     "name": "stderr",
     "output_type": "stream",
     "text": [
      "\u001b[1minput_line_33:2:3: \u001b[0m\u001b[0;1;31merror: \u001b[0m\u001b[1mexpected expression\u001b[0m\n",
      " !./cuda_vector_adding\n",
      "\u001b[0;1;32m  ^\n",
      "\u001b[0m"
     ]
    },
    {
     "ename": "Interpreter Error",
     "evalue": "",
     "output_type": "error",
     "traceback": [
      "Interpreter Error: "
     ]
    }
   ],
   "source": [
    "\n",
    "!./cuda_vector_adding"
   ]
  },
  {
   "cell_type": "code",
   "execution_count": 29,
   "id": "f1f028c6-17c4-47a7-8a10-5d99f19011e9",
   "metadata": {},
   "outputs": [],
   "source": [
    "#include <cstdlib> // Include header for system()\n",
    "\n",
    "// Use the system function to execute a shell command\n",
    "int result = system(\"./cudaLLM\");\n",
    "if (result != 0) {\n",
    "    std::cerr << \"Error executing the command\" << std::endl;\n",
    "}\n"
   ]
  },
  {
   "cell_type": "code",
   "execution_count": 31,
   "id": "b3d800f0-da30-457e-abc7-ecf814ca27fb",
   "metadata": {},
   "outputs": [
    {
     "name": "stdout",
     "output_type": "stream",
     "text": [
      "Device Number: 0\n",
      "  Device name: NVIDIA Tegra X1\n",
      "  Memory Clock Rate (KHz): 12750\n",
      "  Memory Bus Width (bits): 64\n",
      "  Peak Memory Bandwidth (GB/s): 0.204\n"
     ]
    }
   ],
   "source": [
    "#include <cstdio>\n",
    "#include <iostream>\n",
    "\n",
    "std::FILE* pipe = popen(\"./cuda_vector_adding\", \"r\");\n",
    "if (!pipe) {\n",
    "    std::cerr << \"Failed to run command\" << std::endl;\n",
    "} else {\n",
    "    char buffer[128];\n",
    "    while (fgets(buffer, sizeof buffer, pipe) != nullptr) {\n",
    "        std::cout << buffer;\n",
    "    }\n",
    "    pclose(pipe);\n",
    "}\n"
   ]
  },
  {
   "cell_type": "code",
   "execution_count": 32,
   "id": "dc2b5374-8bd5-4b9b-b74c-cdae22baa5a8",
   "metadata": {},
   "outputs": [
    {
     "name": "stderr",
     "output_type": "stream",
     "text": [
      "\u001b[1minput_line_42:1:10: \u001b[0m\u001b[0;1;31mfatal error: \u001b[0m\u001b[1m'opencv2/opencv.hpp' file not found\u001b[0m\n",
      "#include <opencv2/opencv.hpp>\n",
      "\u001b[0;1;32m         ^~~~~~~~~~~~~~~~~~~~\n",
      "\u001b[0m"
     ]
    },
    {
     "ename": "Interpreter Error",
     "evalue": "",
     "output_type": "error",
     "traceback": [
      "Interpreter Error: "
     ]
    }
   ],
   "source": [
    "#include <opencv2/opencv.hpp>\n",
    "\n",
    "int main() {\n",
    "    cv2::VideoCapture cap(0); // Open the default camera\n",
    "    if(!cap.isOpened())  // Check if we succeeded\n",
    "        return -1;\n",
    "\n",
    "    cv::namedWindow(\"Webcam\",1);\n",
    "    while(true) {\n",
    "        cv::Mat frame;\n",
    "        cap >> frame; // Get a new frame from the camera\n",
    "        imshow(\"Webcam\", frame);\n",
    "        if(cv::waitKey(30) >= 0) break; // Wait for a key press\n",
    "    }\n",
    "    // Release the camera or any other cleanup\n",
    "    return 0;\n",
    "}\n"
   ]
  },
  {
   "cell_type": "code",
   "execution_count": 33,
   "id": "e0213941-06c7-4596-b87c-588ea998c213",
   "metadata": {},
   "outputs": [
    {
     "name": "stderr",
     "output_type": "stream",
     "text": [
      "\u001b[1minput_line_43:1:10: \u001b[0m\u001b[0;1;31mfatal error: \u001b[0m\u001b[1m'opencv2/opencv.hpp' file not found\u001b[0m\n",
      "#include <opencv2/opencv.hpp>\n",
      "\u001b[0;1;32m         ^~~~~~~~~~~~~~~~~~~~\n",
      "\u001b[0m"
     ]
    },
    {
     "ename": "Interpreter Error",
     "evalue": "",
     "output_type": "error",
     "traceback": [
      "Interpreter Error: "
     ]
    }
   ],
   "source": [
    "#include <opencv2/opencv.hpp>\n",
    "#include <iostream>\n",
    "\n",
    "int main() {\n",
    "    // Open the default camera\n",
    "    cv::VideoCapture cap(0);\n",
    "    if (!cap.isOpened()) {\n",
    "        std::cerr << \"Error opening the video camera\" << std::endl;\n",
    "        return -1;\n",
    "    }\n",
    "\n",
    "    // Prepare to pipe to FFmpeg\n",
    "    FILE* ffmpeg = popen(\"ffmpeg -f rawvideo -pix_fmt bgr24 -s 640x480 -r 30 -i - \"\n",
    "                         \"-f mpegts -codec:v mpeg1video -b:v 800k -r 30 http://localhost:8081\", \"w\");\n",
    "\n",
    "    if (ffmpeg == NULL) {\n",
    "        std::cerr << \"Failed to run FFmpeg\" << std::endl;\n",
    "        return -1;\n",
    "    }\n",
    "\n",
    "    cv::Mat frame;\n",
    "    while (true) {\n",
    "        cap >> frame;  // Capture a frame\n",
    "        if (frame.empty()) break;  // Check for end of video\n",
    "\n",
    "        // Write frame to FFmpeg\n",
    "        fwrite(frame.data, 1, frame.total() * frame.elemSize(), ffmpeg);\n",
    "        fflush(ffmpeg);\n",
    "\n",
    "        if (cv::waitKey(20) >= 0) break;  // Exit on keypress\n",
    "    }\n",
    "\n",
    "    pclose(ffmpeg);\n",
    "    return 0;\n",
    "}\n"
   ]
  },
  {
   "cell_type": "code",
   "execution_count": 41,
   "id": "19eae5f7-4fb4-4b2a-94ef-41841bcd97fb",
   "metadata": {},
   "outputs": [
    {
     "name": "stderr",
     "output_type": "stream",
     "text": [
      "\u001b[1minput_line_46:2:2: \u001b[0m\u001b[0;1;31merror: \u001b[0m\u001b[1munknown type name 'import'\u001b[0m\n",
      " import os\n",
      "\u001b[0;1;32m ^\n",
      "\u001b[0m\u001b[1minput_line_46:3:3: \u001b[0m\u001b[0;1;31merror: \u001b[0m\u001b[1minvalid preprocessing directive\u001b[0m\n",
      "# Set the environment variables\n",
      "\u001b[0;1;32m  ^\n",
      "\u001b[0m\u001b[1minput_line_46:2:11: \u001b[0m\u001b[0;1;31merror: \u001b[0m\u001b[1mexpected ';' at end of declaration\u001b[0m\n",
      " import os\n",
      "\u001b[0;1;32m          ^\n",
      "\u001b[0m\u001b[0;32m          ;\n",
      "\u001b[0m\u001b[1minput_line_46:5:106: \u001b[0m\u001b[0;1;35mwarning: \u001b[0m\u001b[1mempty character constant [-Winvalid-pp-token]\u001b[0m\n",
      "os.environ['LD_LIBRARY_PATH'] = '/usr/local/cuda/lib64' + os.pathsep + os.environ.get('LD_LIBRARY_PATH', '')\n",
      "\u001b[0;1;32m                                                                                                         ^\n",
      "\u001b[0m"
     ]
    },
    {
     "ename": "Interpreter Error",
     "evalue": "",
     "output_type": "error",
     "traceback": [
      "Interpreter Error: "
     ]
    }
   ],
   "source": [
    "import os\n",
    "\n",
    "# Set the environment variables\n",
    "os.environ['PATH'] += os.pathsep + '/usr/local/cuda/bin'\n",
    "os.environ['LD_LIBRARY_PATH'] = '/usr/local/cuda/lib64' + os.pathsep + os.environ.get('LD_LIBRARY_PATH', '')\n",
    "\n",
    "!nvcc -std=c++14 -o webcam webcam.cpp $(pkg-config --cflags --libs opencv4)"
   ]
  },
  {
   "cell_type": "code",
   "execution_count": 40,
   "id": "d0f765da-f6e3-4142-864a-755f3be6c3af",
   "metadata": {},
   "outputs": [
    {
     "name": "stdout",
     "output_type": "stream",
     "text": [
      "sh: 1: nvcc: not found\n"
     ]
    }
   ],
   "source": [
    "!nvcc -std=c++14 -o webcam webcam.cpp $(pkg-config --cflags --libs opencv4)"
   ]
  },
  {
   "cell_type": "code",
   "execution_count": 36,
   "id": "e02fd831-0d7a-47f6-baca-eb3c47851587",
   "metadata": {},
   "outputs": [
    {
     "name": "stderr",
     "output_type": "stream",
     "text": [
      "Error executing the command\n"
     ]
    }
   ],
   "source": [
    "#include <cstdlib> // Include header for system()\n",
    "\n",
    "// Use the system function to execute a shell command\n",
    "int result = system(\"./webcam\");\n",
    "if (result != 0) {\n",
    "    std::cerr << \"Error executing the command\" << std::endl;\n",
    "}\n"
   ]
  },
  {
   "cell_type": "code",
   "execution_count": 44,
   "id": "da9b5603-f0f7-43f8-b7e9-2ff2b513c42e",
   "metadata": {},
   "outputs": [
    {
     "name": "stderr",
     "output_type": "stream",
     "text": [
      "\u001b[1minput_line_52:2:6: \u001b[0m\u001b[0;1;31merror: \u001b[0m\u001b[1mno matching function for call to 'setenv'\u001b[0m\n",
      "     setenv(\"PATH\", \"/usr/local/cuda/bin\");\n",
      "\u001b[0;1;32m     ^~~~~~\n",
      "\u001b[0m\u001b[1m/home/tiziran/.conda/envs/py39/aarch64-conda-linux-gnu/sysroot/usr/include/stdlib.h:535:12: \u001b[0m\u001b[0;1;30mnote: \u001b[0mcandidate function not viable: requires 3 arguments, but 2 were provided\u001b[0m\n",
      "extern int setenv (const char *__name, const char *__value, int __replace)\n",
      "\u001b[0;1;32m           ^\n",
      "\u001b[0m\u001b[1minput_line_52:3:5: \u001b[0m\u001b[0;1;31merror: \u001b[0m\u001b[1muse of undeclared identifier 'setEnv'; did you mean 'setns'?\u001b[0m\n",
      "    setEnv(\"LD_LIBRARY_PATH\", \"/usr/local/cuda/lib64\");\n",
      "\u001b[0;1;32m    ^~~~~~\n",
      "\u001b[0m\u001b[0;32m    setns\n",
      "\u001b[0m\u001b[1m/home/tiziran/.conda/envs/py39/aarch64-conda-linux-gnu/sysroot/usr/include/bits/sched.h:94:12: \u001b[0m\u001b[0;1;30mnote: \u001b[0m'setns' declared here\u001b[0m\n",
      "extern int setns (int __fd, int __nstype) __THROW;\n",
      "\u001b[0;1;32m           ^\n",
      "\u001b[0m\u001b[1minput_line_52:3:12: \u001b[0m\u001b[0;1;31merror: \u001b[0m\u001b[1mcannot initialize a parameter of type 'int' with an lvalue of type 'const char [16]'\u001b[0m\n",
      "    setEnv(\"LD_LIBRARY_PATH\", \"/usr/local/cuda/lib64\");\n",
      "\u001b[0;1;32m           ^~~~~~~~~~~~~~~~~\n",
      "\u001b[0m\u001b[1m/home/tiziran/.conda/envs/py39/aarch64-conda-linux-gnu/sysroot/usr/include/bits/sched.h:94:23: \u001b[0m\u001b[0;1;30mnote: \u001b[0mpassing argument to parameter '__fd' here\u001b[0m\n",
      "extern int setns (int __fd, int __nstype) __THROW;\n",
      "\u001b[0;1;32m                      ^\n",
      "\u001b[0m"
     ]
    },
    {
     "ename": "Interpreter Error",
     "evalue": "",
     "output_type": "error",
     "traceback": [
      "Interpreter Error: "
     ]
    }
   ],
   "source": [
    "#include <cstdlib>\n",
    "\n",
    "    setenv(\"PATH\", \"/usr/local/cuda/bin\");\n",
    "    setEnv(\"LD_LIBRARY_PATH\", \"/usr/local/cuda/lib64\");\n"
   ]
  },
  {
   "cell_type": "code",
   "execution_count": null,
   "id": "092809a6-3ead-45e3-a5c0-701b4ccbd900",
   "metadata": {},
   "outputs": [],
   "source": []
  }
 ],
 "metadata": {
  "kernelspec": {
   "display_name": "C++11",
   "language": "C++11",
   "name": "xcpp11"
  },
  "language_info": {
   "codemirror_mode": "text/x-c++src",
   "file_extension": ".cpp",
   "mimetype": "text/x-c++src",
   "name": "c++",
   "version": "11"
  }
 },
 "nbformat": 4,
 "nbformat_minor": 5
}
