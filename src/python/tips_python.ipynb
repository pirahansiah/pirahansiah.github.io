{
 "cells": [
  {
   "cell_type": "markdown",
   "metadata": {},
   "source": [
    "# Learning using python 3.12 and above for Computer Vision (CV), machine learning (ML), LLMs\n",
    "# Powerful Python Features"
   ]
  },
  {
   "cell_type": "code",
   "execution_count": 4,
   "metadata": {},
   "outputs": [
    {
     "name": "stdout",
     "output_type": "stream",
     "text": [
      "[[1, 2, 3], [4, 'a', 6.1]]\n"
     ]
    }
   ],
   "source": [
    "#python 3.12 Type Hint\n",
    "from typing import List\n",
    "type Matrix = List[List[int | float]] \n",
    "A: Matrix = [[1, 2, 3], [4, \"a\", 6.1]]\n",
    "print(A)"
   ]
  },
  {
   "cell_type": "markdown",
   "metadata": {},
   "source": [
    "several Python tips and tricks that can help with optimization and improving the production software:\n",
    "\n",
    "Use Built-in Functions and Libraries: Python's built-in functions and standard libraries are usually optimized for performance. Functions like map(), filter(), and reduce() can be faster than equivalent custom loops. Libraries like NumPy for numerical computations are highly optimized and can process data faster than standard Python lists.\n",
    "\n",
    "Profiling Python Code: Use profiling tools such as cProfile to identify bottlenecks in your code. Understanding where your code spends most of its time can help you make informed optimizations.\n",
    "\n",
    "Efficient Data Structures: Choosing the right data structure can drastically affect performance. For instance, using sets for membership testing is faster than lists, and deque from the collections module is faster for push and pop operations than a standard list.\n",
    "\n",
    "Using List Comprehensions and Generator Expressions: List comprehensions and generator expressions are not only more Pythonic and readable but also often faster and more memory efficient than traditional loops.\n",
    "\n",
    "Function Caching with lru_cache: The functools.lru_cache decorator can be used to cache the results of functions with immutable inputs. This can significantly speed up the application performance by avoiding repeated calculations.\n",
    "\n",
    "Concurrency and Parallelism: Use Python’s concurrent.futures or multiprocessing libraries to run code in parallel. This can be particularly useful for I/O bound or CPU-intensive tasks.\n",
    "\n",
    "Minimize Global Variable Usage: Accessing global variables can be slower than locals in Python. Where performance is key, consider minimizing the use of global variables or passing them as function arguments.\n",
    "\n",
    "Avoiding Dot Lookups: Accessing attributes in Python via dot notation can add overhead in tight loops. Consider binding the attribute to a local variable before the loop.\n",
    "\n",
    "String Concatenation: For concatenating a large number of strings, use join() rather than +, as join() is generally more efficient.\n",
    "\n",
    "Using Slots in Classes: If you are defining a class that will have many instances, consider using __slots__ to explicitly declare data members. This can reduce the memory footprint of instances by not using a dictionary for each instance.\n",
    "\n",
    "Minimize the use of Exception Handling for Control Flow: Exceptions are costly in Python. Avoid using try-except blocks for control flow; use them only for handling actual error conditions.\n",
    "\n",
    "Compiled Python: For performance-critical applications, consider using Cython or PyPy. Cython allows you to write C extensions for Python, while PyPy is a just-in-time compiler that can significantly speed up the execution of Python code.\n",
    "\n",
    "Optimize Loops: Move computations that do not depend on the loop's iteration variable outside the loop. This reduces the amount of computation performed during each iteration.\n",
    "\n",
    "Lazy Imports: Delay importing modules until they are actually needed. This can reduce the startup time of your scripts, especially if the modules are large or not always used."
   ]
  },
  {
   "cell_type": "markdown",
   "metadata": {},
   "source": [
    "# using generator expressions which best for the large data sets, memory efficient"
   ]
  },
  {
   "cell_type": "code",
   "execution_count": 6,
   "metadata": {},
   "outputs": [
    {
     "name": "stdout",
     "output_type": "stream",
     "text": [
      "[0, 1, 4, 9, 16, 25, 36, 49, 64, 81]\n"
     ]
    }
   ],
   "source": [
    "\n",
    "squares_list_comprehensions = [x**2 for x in range (10)]\n",
    "squares_generator_expressions = (x**2 for x in range (10)) # best for the large data sets, memory efficient\n",
    "print(list(squares_generator_expressions))"
   ]
  },
  {
   "cell_type": "markdown",
   "metadata": {},
   "source": [
    "# default dictionary"
   ]
  },
  {
   "cell_type": "code",
   "execution_count": 10,
   "metadata": {},
   "outputs": [
    {
     "name": "stdout",
     "output_type": "stream",
     "text": [
      "defaultdict(<class 'int'>, {'key': 1, 'p': 0})\n"
     ]
    }
   ],
   "source": [
    "from collections import defaultdict\n",
    "dd= defaultdict(int)\n",
    "dd['key']+=1\n",
    "dd['p']\n",
    "print(dd)"
   ]
  },
  {
   "cell_type": "markdown",
   "metadata": {},
   "source": [
    "# named tuples"
   ]
  },
  {
   "cell_type": "code",
   "execution_count": 11,
   "metadata": {},
   "outputs": [
    {
     "name": "stdout",
     "output_type": "stream",
     "text": [
      "Point(x=10, y=20)\n"
     ]
    }
   ],
   "source": [
    "from collections import namedtuple\n",
    "Point = namedtuple('Point','x y')\n",
    "p=Point(10,20)\n",
    "print(p)"
   ]
  },
  {
   "cell_type": "code",
   "execution_count": 12,
   "metadata": {},
   "outputs": [
    {
     "name": "stdout",
     "output_type": "stream",
     "text": [
      "Collecting mypy\n",
      "  Downloading mypy-1.10.0-cp310-cp310-macosx_10_9_x86_64.whl.metadata (1.9 kB)\n",
      "Requirement already satisfied: typing-extensions>=4.1.0 in /Users/farshid/miniconda3/envs/rag/lib/python3.10/site-packages (from mypy) (4.11.0)\n",
      "Requirement already satisfied: mypy-extensions>=1.0.0 in /Users/farshid/miniconda3/envs/rag/lib/python3.10/site-packages (from mypy) (1.0.0)\n",
      "Requirement already satisfied: tomli>=1.1.0 in /Users/farshid/miniconda3/envs/rag/lib/python3.10/site-packages (from mypy) (2.0.1)\n",
      "Downloading mypy-1.10.0-cp310-cp310-macosx_10_9_x86_64.whl (10.8 MB)\n",
      "\u001b[2K   \u001b[90m━━━━━━━━━━━━━━━━━━━━━━━━━━━━━━━━━━━━━━━━\u001b[0m \u001b[32m10.8/10.8 MB\u001b[0m \u001b[31m482.7 kB/s\u001b[0m eta \u001b[36m0:00:00\u001b[0m00:01\u001b[0m00:01\u001b[0m\n",
      "\u001b[?25hInstalling collected packages: mypy\n",
      "Successfully installed mypy-1.10.0\n"
     ]
    }
   ],
   "source": [
    "!pip install mypy"
   ]
  },
  {
   "cell_type": "code",
   "execution_count": 2,
   "metadata": {},
   "outputs": [
    {
     "name": "stdout",
     "output_type": "stream",
     "text": [
      "[[1, 2, 3], [4, 5, 6]]\n"
     ]
    }
   ],
   "source": []
  },
  {
   "cell_type": "code",
   "execution_count": 14,
   "metadata": {},
   "outputs": [
    {
     "name": "stdout",
     "output_type": "stream",
     "text": [
      "Retrieving notices: ...working... done\n",
      "\n",
      "PackageNotInstalledError: Package is not installed in prefix.\n",
      "  prefix: /Users/farshid/miniconda3/envs/rag\n",
      "  package name: conda\n",
      "\n",
      "\n"
     ]
    }
   ],
   "source": [
    "!conda update conda"
   ]
  },
  {
   "cell_type": "code",
   "execution_count": null,
   "metadata": {},
   "outputs": [],
   "source": []
  },
  {
   "cell_type": "code",
   "execution_count": 16,
   "metadata": {},
   "outputs": [
    {
     "name": "stdout",
     "output_type": "stream",
     "text": [
      "Channels:\n",
      " - anaconda\n",
      " - conda-forge\n",
      " - pytorch\n",
      " - defaults\n",
      "Platform: osx-64\n",
      "Collecting package metadata (repodata.json): done\n",
      "Solving environment: done\n",
      "\n",
      "## Package Plan ##\n",
      "\n",
      "  environment location: /Users/farshid/miniconda3/envs/py312\n",
      "\n",
      "  added / updated specs:\n",
      "    - python=3.12\n",
      "\n",
      "\n",
      "The following packages will be downloaded:\n",
      "\n",
      "    package                    |            build\n",
      "    ---------------------------|-----------------\n",
      "    expat-2.5.0                |       hcec6c5f_0         150 KB  anaconda\n",
      "    pip-23.3                   |  py312hecd8cb5_0         3.2 MB  anaconda\n",
      "    python-3.12.0              |       hd58486a_0        14.2 MB  anaconda\n",
      "    setuptools-68.0.0          |  py312hecd8cb5_0         1.3 MB  anaconda\n",
      "    wheel-0.41.2               |  py312hecd8cb5_0         127 KB  anaconda\n",
      "    ------------------------------------------------------------\n",
      "                                           Total:        19.1 MB\n",
      "\n",
      "The following NEW packages will be INSTALLED:\n",
      "\n",
      "  bzip2              anaconda/osx-64::bzip2-1.0.8-h1de35cc_0 \n",
      "  ca-certificates    anaconda/osx-64::ca-certificates-2023.08.22-hecd8cb5_0 \n",
      "  expat              anaconda/osx-64::expat-2.5.0-hcec6c5f_0 \n",
      "  libcxx             anaconda/osx-64::libcxx-14.0.6-h9765a3e_0 \n",
      "  libffi             anaconda/osx-64::libffi-3.4.4-hecd8cb5_0 \n",
      "  ncurses            anaconda/osx-64::ncurses-6.4-hcec6c5f_0 \n",
      "  openssl            anaconda/osx-64::openssl-3.0.12-hca72f7f_0 \n",
      "  pip                anaconda/osx-64::pip-23.3-py312hecd8cb5_0 \n",
      "  python             anaconda/osx-64::python-3.12.0-hd58486a_0 \n",
      "  readline           anaconda/osx-64::readline-8.2-hca72f7f_0 \n",
      "  setuptools         anaconda/osx-64::setuptools-68.0.0-py312hecd8cb5_0 \n",
      "  sqlite             anaconda/osx-64::sqlite-3.41.2-h6c40b1e_0 \n",
      "  tk                 anaconda/osx-64::tk-8.6.12-h5d9f67b_0 \n",
      "  tzdata             anaconda/noarch::tzdata-2023c-h04d1e81_0 \n",
      "  wheel              anaconda/osx-64::wheel-0.41.2-py312hecd8cb5_0 \n",
      "  xz                 anaconda/osx-64::xz-5.4.2-h6c40b1e_0 \n",
      "  zlib               anaconda/osx-64::zlib-1.2.13-h4dc903c_0 \n",
      "\n",
      "\n",
      "\n",
      "Downloading and Extracting Packages:\n",
      "python-3.12.0        | 14.2 MB   |                                       |   0% \n",
      "pip-23.3             | 3.2 MB    |                                       |   0% \u001b[A\n",
      "\n",
      "setuptools-68.0.0    | 1.3 MB    |                                       |   0% \u001b[A\u001b[A\n",
      "\n",
      "\n",
      "expat-2.5.0          | 150 KB    |                                       |   0% \u001b[A\u001b[A\u001b[A\n",
      "\n",
      "\n",
      "\n",
      "wheel-0.41.2         | 127 KB    |                                       |   0% \u001b[A\u001b[A\u001b[A\u001b[A\n",
      "\n",
      "setuptools-68.0.0    | 1.3 MB    | 4                                     |   1% \u001b[A\u001b[A\n",
      "\n",
      "setuptools-68.0.0    | 1.3 MB    | #2                                    |   3% \u001b[A\u001b[A\n",
      "pip-23.3             | 3.2 MB    | 1                                     |   0% \u001b[A\n",
      "\n",
      "setuptools-68.0.0    | 1.3 MB    | ##1                                   |   6% \u001b[A\u001b[A\n",
      "pip-23.3             | 3.2 MB    | 5                                     |   1% \u001b[A\n",
      "\n",
      "setuptools-68.0.0    | 1.3 MB    | ###                                   |   8% \u001b[A\u001b[A\n",
      "pip-23.3             | 3.2 MB    | 9                                     |   2% \u001b[A\n",
      "\n",
      "\n",
      "expat-2.5.0          | 150 KB    | ###9                                  |  11% \u001b[A\u001b[A\u001b[A\n",
      "pip-23.3             | 3.2 MB    | #2                                    |   3% \u001b[A\n",
      "\n",
      "\n",
      "expat-2.5.0          | 150 KB    | ###############7                      |  43% \u001b[A\u001b[A\u001b[A\n",
      "\n",
      "\n",
      "expat-2.5.0          | 150 KB    | ###########################5          |  74% \u001b[A\u001b[A\u001b[A\n",
      "\n",
      "\n",
      "\n",
      "wheel-0.41.2         | 127 KB    | ####6                                 |  13% \u001b[A\u001b[A\u001b[A\u001b[A\n",
      "\n",
      "\n",
      "\n",
      "python-3.12.0        | 14.2 MB   |                                       |   0% \u001b[A\u001b[A\u001b[A\u001b[A\n",
      "\n",
      "\n",
      "\n",
      "wheel-0.41.2         | 127 KB    | ##################################### | 100% \u001b[A\u001b[A\u001b[A\u001b[A\n",
      "\n",
      "\n",
      "\n",
      "python-3.12.0        | 14.2 MB   | 1                                     |   0% \u001b[A\u001b[A\u001b[A\u001b[A\n",
      "pip-23.3             | 3.2 MB    | #6                                    |   4% \u001b[A\n",
      "pip-23.3             | 3.2 MB    | ##3                                   |   6% \u001b[A\n",
      "\n",
      "\n",
      "expat-2.5.0          | 150 KB    | ###################################4  |  96% \u001b[A\u001b[A\u001b[A\n",
      "\n",
      "\n",
      "expat-2.5.0          | 150 KB    | ##################################### | 100% \u001b[A\u001b[A\u001b[A\n",
      "\n",
      "setuptools-68.0.0    | 1.3 MB    | ###8                                  |  10% \u001b[A\u001b[A\n",
      "pip-23.3             | 3.2 MB    | ##8                                   |   8% \u001b[A\n",
      "pip-23.3             | 3.2 MB    | #######                               |  19% \u001b[A\n",
      "\n",
      "setuptools-68.0.0    | 1.3 MB    | ##########7                           |  29% \u001b[A\u001b[A\n",
      "\n",
      "setuptools-68.0.0    | 1.3 MB    | #################1                    |  46% \u001b[A\u001b[A\n",
      "python-3.12.0        | 14.2 MB   | 2                                     |   1% \u001b[A\n",
      "\n",
      "python-3.12.0        | 14.2 MB   | 8                                     |   2% \u001b[A\u001b[A\n",
      "pip-23.3             | 3.2 MB    | #########9                            |  27% \u001b[A\n",
      "pip-23.3             | 3.2 MB    | ###########                           |  30% \u001b[A\n",
      "pip-23.3             | 3.2 MB    | ###########7                          |  32% \u001b[A\n",
      "\n",
      "setuptools-68.0.0    | 1.3 MB    | ######################7               |  61% \u001b[A\u001b[A\n",
      "\n",
      "setuptools-68.0.0    | 1.3 MB    | ########################4             |  66% \u001b[A\u001b[A\n",
      "pip-23.3             | 3.2 MB    | ############2                         |  33% \u001b[A\n",
      "pip-23.3             | 3.2 MB    | ############8                         |  35% \u001b[A\n",
      "pip-23.3             | 3.2 MB    | #############1                        |  36% \u001b[A\n",
      "\n",
      "setuptools-68.0.0    | 1.3 MB    | ##########################1           |  71% \u001b[A\u001b[A\n",
      "pip-23.3             | 3.2 MB    | #############5                        |  37% \u001b[A\n",
      "pip-23.3             | 3.2 MB    | #############9                        |  38% \u001b[A\n",
      "pip-23.3             | 3.2 MB    | ##############2                       |  39% \u001b[A\n",
      "\n",
      "setuptools-68.0.0    | 1.3 MB    | ###########################4          |  74% \u001b[A\u001b[A\n",
      "pip-23.3             | 3.2 MB    | ###############1                      |  41% \u001b[A\n",
      "\n",
      "setuptools-68.0.0    | 1.3 MB    | ############################7         |  78% \u001b[A\u001b[A\n",
      "pip-23.3             | 3.2 MB    | ###############5                      |  42% \u001b[A\n",
      "\n",
      "setuptools-68.0.0    | 1.3 MB    | #############################6        |  80% \u001b[A\u001b[A\n",
      "\n",
      "setuptools-68.0.0    | 1.3 MB    | ##############################4       |  82% \u001b[A\u001b[A\n",
      "python-3.12.0        | 14.2 MB   | 9                                     |   3% \u001b[A\n",
      "\n",
      "setuptools-68.0.0    | 1.3 MB    | ###############################3      |  85% \u001b[A\u001b[A\n",
      "pip-23.3             | 3.2 MB    | ################2                     |  44% \u001b[A\n",
      "pip-23.3             | 3.2 MB    | ################4                     |  44% \u001b[A\n",
      "pip-23.3             | 3.2 MB    | ################6                     |  45% \u001b[A\n",
      "\n",
      "python-3.12.0        | 14.2 MB   | #                                     |   3% \u001b[A\u001b[A\n",
      "pip-23.3             | 3.2 MB    | ################8                     |  45% \u001b[A\n",
      "\n",
      "python-3.12.0        | 14.2 MB   | #1                                    |   3% \u001b[A\u001b[A\n",
      "pip-23.3             | 3.2 MB    | ################9                     |  46% \u001b[A\n",
      "\n",
      "setuptools-68.0.0    | 1.3 MB    | #################################4    |  90% \u001b[A\u001b[A\n",
      "\n",
      "python-3.12.0        | 14.2 MB   | #2                                    |   3% \u001b[A\u001b[A\n",
      "pip-23.3             | 3.2 MB    | #################3                    |  47% \u001b[A\n",
      "\n",
      "python-3.12.0        | 14.2 MB   | #2                                    |   3% \u001b[A\u001b[A\n",
      "pip-23.3             | 3.2 MB    | #################5                    |  47% \u001b[A\n",
      "\n",
      "setuptools-68.0.0    | 1.3 MB    | ###################################2  |  95% \u001b[A\u001b[A\n",
      "python-3.12.0        | 14.2 MB   | #2                                    |   4% \u001b[A\n",
      "\n",
      "python-3.12.0        | 14.2 MB   | #3                                    |   4% \u001b[A\u001b[A\n",
      "pip-23.3             | 3.2 MB    | ##################                    |  49% \u001b[A\n",
      "\n",
      "python-3.12.0        | 14.2 MB   | #4                                    |   4% \u001b[A\u001b[A\n",
      "pip-23.3             | 3.2 MB    | ##################4                   |  50% \u001b[A\n",
      "python-3.12.0        | 14.2 MB   | #5                                    |   4% \u001b[A\n",
      "python-3.12.0        | 14.2 MB   | #5                                    |   4% \u001b[A\n",
      "pip-23.3             | 3.2 MB    | ###################5                  |  53% \u001b[A\n",
      "python-3.12.0        | 14.2 MB   | #6                                    |   4% \u001b[A\n",
      "\n",
      "setuptools-68.0.0    | 1.3 MB    | ##################################### | 100% \u001b[A\u001b[A\n",
      "python-3.12.0        | 14.2 MB   | #7                                    |   5% \u001b[A\n",
      "python-3.12.0        | 14.2 MB   | #8                                    |   5% \u001b[A\n",
      "pip-23.3             | 3.2 MB    | ####################9                 |  57% \u001b[A\n",
      "python-3.12.0        | 14.2 MB   | #9                                    |   5% \u001b[A\n",
      "python-3.12.0        | 14.2 MB   | #9                                    |   5% \u001b[A\n",
      "pip-23.3             | 3.2 MB    | ######################                |  60% \u001b[A\n",
      "python-3.12.0        | 14.2 MB   | ##                                    |   6% \u001b[A\n",
      "python-3.12.0        | 14.2 MB   | ##1                                   |   6% \u001b[A\n",
      "python-3.12.0        | 14.2 MB   | ##1                                   |   6% \u001b[A\n",
      "python-3.12.0        | 14.2 MB   | ##2                                   |   6% \u001b[A\n",
      "python-3.12.0        | 14.2 MB   | ##3                                   |   6% \u001b[A\n",
      "python-3.12.0        | 14.2 MB   | ##3                                   |   6% \u001b[A\n",
      "pip-23.3             | 3.2 MB    | ########################5             |  66% \u001b[A\n",
      "python-3.12.0        | 14.2 MB   | ##4                                   |   7% \u001b[A\n",
      "python-3.12.0        | 14.2 MB   | ##5                                   |   7% \u001b[A\n",
      "python-3.12.0        | 14.2 MB   | ##6                                   |   7% \u001b[A\n",
      "pip-23.3             | 3.2 MB    | ##########################2           |  71% \u001b[A\n",
      "python-3.12.0        | 14.2 MB   | ##7                                   |   7% \u001b[A\n",
      "python-3.12.0        | 14.2 MB   | ##8                                   |   8% \u001b[A\n",
      "python-3.12.0        | 14.2 MB   | ##9                                   |   8% \u001b[A\n",
      "python-3.12.0        | 14.2 MB   | ###                                   |   8% \u001b[A\n",
      "python-3.12.0        | 14.2 MB   | ###                                   |   8% \u001b[A\n",
      "python-3.12.0        | 14.2 MB   | ###1                                  |   9% \u001b[A\n",
      "python-3.12.0        | 14.2 MB   | ###2                                  |   9% \u001b[A\n",
      "python-3.12.0        | 14.2 MB   | ###4                                  |   9% \u001b[A\n",
      "python-3.12.0        | 14.2 MB   | ###4                                  |   9% \u001b[A\n",
      "python-3.12.0        | 14.2 MB   | ###5                                  |  10% \u001b[A\n",
      "python-3.12.0        | 14.2 MB   | ###6                                  |  10% \u001b[A\n",
      "python-3.12.0        | 14.2 MB   | ###7                                  |  10% \u001b[A\n",
      "python-3.12.0        | 14.2 MB   | ###8                                  |  10% \u001b[A\n",
      "python-3.12.0        | 14.2 MB   | ###8                                  |  11% \u001b[A\n",
      "python-3.12.0        | 14.2 MB   | ###9                                  |  11% \u001b[A\n",
      "python-3.12.0        | 14.2 MB   | ####                                  |  11% \u001b[A\n",
      "python-3.12.0        | 14.2 MB   | ####1                                 |  11% \u001b[A\n",
      "python-3.12.0        | 14.2 MB   | ####2                                 |  11% \u001b[A\n",
      "pip-23.3             | 3.2 MB    | ##################################6   |  94% \u001b[A\n",
      "python-3.12.0        | 14.2 MB   | ####3                                 |  12% \u001b[A\n",
      "python-3.12.0        | 14.2 MB   | ####4                                 |  12% \u001b[A\n",
      "python-3.12.0        | 14.2 MB   | ####5                                 |  12% \u001b[A\n",
      "python-3.12.0        | 14.2 MB   | ####6                                 |  13% \u001b[A\n",
      "pip-23.3             | 3.2 MB    | ####################################6 |  99% \u001b[A\n",
      "python-3.12.0        | 14.2 MB   | #####9                                |  16% \u001b[A\n",
      "                                                                                \u001b[A\n",
      "                                                                                \u001b[A\n",
      "\n",
      "                                                                                \u001b[A\u001b[A\n",
      "\n",
      "\n",
      "                                                                                \u001b[A\u001b[A\u001b[A\n",
      "\n",
      "\n",
      "\n",
      "                                                                                \u001b[A\u001b[A\u001b[A\u001b[A\n",
      "Preparing transaction: done\n",
      "Verifying transaction: done\n",
      "Executing transaction: done\n",
      "#\n",
      "# To activate this environment, use\n",
      "#\n",
      "#     $ conda activate py312\n",
      "#\n",
      "# To deactivate an active environment, use\n",
      "#\n",
      "#     $ conda deactivate\n",
      "\n"
     ]
    }
   ],
   "source": [
    "!conda create --name py312 python=3.12 -y"
   ]
  },
  {
   "cell_type": "code",
   "execution_count": null,
   "metadata": {},
   "outputs": [],
   "source": []
  }
 ],
 "metadata": {
  "kernelspec": {
   "display_name": "rag",
   "language": "python",
   "name": "python3"
  },
  "language_info": {
   "codemirror_mode": {
    "name": "ipython",
    "version": 3
   },
   "file_extension": ".py",
   "mimetype": "text/x-python",
   "name": "python",
   "nbconvert_exporter": "python",
   "pygments_lexer": "ipython3",
   "version": "3.12.0"
  }
 },
 "nbformat": 4,
 "nbformat_minor": 2
}
